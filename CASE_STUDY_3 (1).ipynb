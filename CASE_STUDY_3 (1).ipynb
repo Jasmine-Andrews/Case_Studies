{
  "nbformat": 4,
  "nbformat_minor": 0,
  "metadata": {
    "colab": {
      "provenance": []
    },
    "kernelspec": {
      "name": "python3",
      "display_name": "Python 3"
    },
    "language_info": {
      "name": "python"
    }
  },
  "cells": [
    {
      "cell_type": "markdown",
      "source": [
        "IMPORT BASIC LIBRARIES\n"
      ],
      "metadata": {
        "id": "VLNAuYxP94DG"
      }
    },
    {
      "cell_type": "code",
      "execution_count": 32,
      "metadata": {
        "id": "tVzHnCAi9ruw"
      },
      "outputs": [],
      "source": [
        "import numpy as np\n",
        "import pandas as pd\n",
        "import matplotlib.pyplot as plt\n",
        "import seaborn as sns\n",
        "import warnings\n",
        "warnings.filterwarnings(\"ignore\")"
      ]
    },
    {
      "cell_type": "markdown",
      "source": [
        "IMPORT DATA SET INTO PYTHON ENVIRONMENT"
      ],
      "metadata": {
        "id": "nIhtICMm-Wpu"
      }
    },
    {
      "cell_type": "code",
      "source": [
        "data=pd.read_csv('/content/Wine_clust .csv')"
      ],
      "metadata": {
        "id": "Z6rUVNnz-L6v"
      },
      "execution_count": 33,
      "outputs": []
    },
    {
      "cell_type": "markdown",
      "source": [
        "EXPLORING THE DATASET"
      ],
      "metadata": {
        "id": "Bds13WWr-tBh"
      }
    },
    {
      "cell_type": "code",
      "source": [
        "data.head()"
      ],
      "metadata": {
        "colab": {
          "base_uri": "https://localhost:8080/",
          "height": 226
        },
        "id": "CrPBzq0I-rN0",
        "outputId": "de527acd-2ff3-4854-d1e0-5cffbafc4568"
      },
      "execution_count": 34,
      "outputs": [
        {
          "output_type": "execute_result",
          "data": {
            "text/plain": [
              "   Alcohol  Malic_Acid   Ash  Ash_Alcanity  Magnesium  Total_Phenols  \\\n",
              "0    14.23        1.71  2.43          15.6        127           2.80   \n",
              "1    13.20        1.78  2.14          11.2        100           2.65   \n",
              "2    13.16        2.36  2.67          18.6        101           2.80   \n",
              "3    14.37        1.95  2.50          16.8        113           3.85   \n",
              "4    13.24        2.59  2.87          21.0        118           2.80   \n",
              "\n",
              "   Flavanoids  Nonflavanoid_Phenols  Proanthocyanins  Color_Intensity   Hue  \\\n",
              "0        3.06                  0.28             2.29             5.64  1.04   \n",
              "1        2.76                  0.26             1.28             4.38  1.05   \n",
              "2        3.24                  0.30             2.81             5.68  1.03   \n",
              "3        3.49                  0.24             2.18             7.80  0.86   \n",
              "4        2.69                  0.39             1.82             4.32  1.04   \n",
              "\n",
              "   OD280  Proline  \n",
              "0   3.92     1065  \n",
              "1   3.40     1050  \n",
              "2   3.17     1185  \n",
              "3   3.45     1480  \n",
              "4   2.93      735  "
            ],
            "text/html": [
              "\n",
              "  <div id=\"df-4cbefbf4-f404-4ed5-9005-cfa8499d4847\" class=\"colab-df-container\">\n",
              "    <div>\n",
              "<style scoped>\n",
              "    .dataframe tbody tr th:only-of-type {\n",
              "        vertical-align: middle;\n",
              "    }\n",
              "\n",
              "    .dataframe tbody tr th {\n",
              "        vertical-align: top;\n",
              "    }\n",
              "\n",
              "    .dataframe thead th {\n",
              "        text-align: right;\n",
              "    }\n",
              "</style>\n",
              "<table border=\"1\" class=\"dataframe\">\n",
              "  <thead>\n",
              "    <tr style=\"text-align: right;\">\n",
              "      <th></th>\n",
              "      <th>Alcohol</th>\n",
              "      <th>Malic_Acid</th>\n",
              "      <th>Ash</th>\n",
              "      <th>Ash_Alcanity</th>\n",
              "      <th>Magnesium</th>\n",
              "      <th>Total_Phenols</th>\n",
              "      <th>Flavanoids</th>\n",
              "      <th>Nonflavanoid_Phenols</th>\n",
              "      <th>Proanthocyanins</th>\n",
              "      <th>Color_Intensity</th>\n",
              "      <th>Hue</th>\n",
              "      <th>OD280</th>\n",
              "      <th>Proline</th>\n",
              "    </tr>\n",
              "  </thead>\n",
              "  <tbody>\n",
              "    <tr>\n",
              "      <th>0</th>\n",
              "      <td>14.23</td>\n",
              "      <td>1.71</td>\n",
              "      <td>2.43</td>\n",
              "      <td>15.6</td>\n",
              "      <td>127</td>\n",
              "      <td>2.80</td>\n",
              "      <td>3.06</td>\n",
              "      <td>0.28</td>\n",
              "      <td>2.29</td>\n",
              "      <td>5.64</td>\n",
              "      <td>1.04</td>\n",
              "      <td>3.92</td>\n",
              "      <td>1065</td>\n",
              "    </tr>\n",
              "    <tr>\n",
              "      <th>1</th>\n",
              "      <td>13.20</td>\n",
              "      <td>1.78</td>\n",
              "      <td>2.14</td>\n",
              "      <td>11.2</td>\n",
              "      <td>100</td>\n",
              "      <td>2.65</td>\n",
              "      <td>2.76</td>\n",
              "      <td>0.26</td>\n",
              "      <td>1.28</td>\n",
              "      <td>4.38</td>\n",
              "      <td>1.05</td>\n",
              "      <td>3.40</td>\n",
              "      <td>1050</td>\n",
              "    </tr>\n",
              "    <tr>\n",
              "      <th>2</th>\n",
              "      <td>13.16</td>\n",
              "      <td>2.36</td>\n",
              "      <td>2.67</td>\n",
              "      <td>18.6</td>\n",
              "      <td>101</td>\n",
              "      <td>2.80</td>\n",
              "      <td>3.24</td>\n",
              "      <td>0.30</td>\n",
              "      <td>2.81</td>\n",
              "      <td>5.68</td>\n",
              "      <td>1.03</td>\n",
              "      <td>3.17</td>\n",
              "      <td>1185</td>\n",
              "    </tr>\n",
              "    <tr>\n",
              "      <th>3</th>\n",
              "      <td>14.37</td>\n",
              "      <td>1.95</td>\n",
              "      <td>2.50</td>\n",
              "      <td>16.8</td>\n",
              "      <td>113</td>\n",
              "      <td>3.85</td>\n",
              "      <td>3.49</td>\n",
              "      <td>0.24</td>\n",
              "      <td>2.18</td>\n",
              "      <td>7.80</td>\n",
              "      <td>0.86</td>\n",
              "      <td>3.45</td>\n",
              "      <td>1480</td>\n",
              "    </tr>\n",
              "    <tr>\n",
              "      <th>4</th>\n",
              "      <td>13.24</td>\n",
              "      <td>2.59</td>\n",
              "      <td>2.87</td>\n",
              "      <td>21.0</td>\n",
              "      <td>118</td>\n",
              "      <td>2.80</td>\n",
              "      <td>2.69</td>\n",
              "      <td>0.39</td>\n",
              "      <td>1.82</td>\n",
              "      <td>4.32</td>\n",
              "      <td>1.04</td>\n",
              "      <td>2.93</td>\n",
              "      <td>735</td>\n",
              "    </tr>\n",
              "  </tbody>\n",
              "</table>\n",
              "</div>\n",
              "    <div class=\"colab-df-buttons\">\n",
              "\n",
              "  <div class=\"colab-df-container\">\n",
              "    <button class=\"colab-df-convert\" onclick=\"convertToInteractive('df-4cbefbf4-f404-4ed5-9005-cfa8499d4847')\"\n",
              "            title=\"Convert this dataframe to an interactive table.\"\n",
              "            style=\"display:none;\">\n",
              "\n",
              "  <svg xmlns=\"http://www.w3.org/2000/svg\" height=\"24px\" viewBox=\"0 -960 960 960\">\n",
              "    <path d=\"M120-120v-720h720v720H120Zm60-500h600v-160H180v160Zm220 220h160v-160H400v160Zm0 220h160v-160H400v160ZM180-400h160v-160H180v160Zm440 0h160v-160H620v160ZM180-180h160v-160H180v160Zm440 0h160v-160H620v160Z\"/>\n",
              "  </svg>\n",
              "    </button>\n",
              "\n",
              "  <style>\n",
              "    .colab-df-container {\n",
              "      display:flex;\n",
              "      gap: 12px;\n",
              "    }\n",
              "\n",
              "    .colab-df-convert {\n",
              "      background-color: #E8F0FE;\n",
              "      border: none;\n",
              "      border-radius: 50%;\n",
              "      cursor: pointer;\n",
              "      display: none;\n",
              "      fill: #1967D2;\n",
              "      height: 32px;\n",
              "      padding: 0 0 0 0;\n",
              "      width: 32px;\n",
              "    }\n",
              "\n",
              "    .colab-df-convert:hover {\n",
              "      background-color: #E2EBFA;\n",
              "      box-shadow: 0px 1px 2px rgba(60, 64, 67, 0.3), 0px 1px 3px 1px rgba(60, 64, 67, 0.15);\n",
              "      fill: #174EA6;\n",
              "    }\n",
              "\n",
              "    .colab-df-buttons div {\n",
              "      margin-bottom: 4px;\n",
              "    }\n",
              "\n",
              "    [theme=dark] .colab-df-convert {\n",
              "      background-color: #3B4455;\n",
              "      fill: #D2E3FC;\n",
              "    }\n",
              "\n",
              "    [theme=dark] .colab-df-convert:hover {\n",
              "      background-color: #434B5C;\n",
              "      box-shadow: 0px 1px 3px 1px rgba(0, 0, 0, 0.15);\n",
              "      filter: drop-shadow(0px 1px 2px rgba(0, 0, 0, 0.3));\n",
              "      fill: #FFFFFF;\n",
              "    }\n",
              "  </style>\n",
              "\n",
              "    <script>\n",
              "      const buttonEl =\n",
              "        document.querySelector('#df-4cbefbf4-f404-4ed5-9005-cfa8499d4847 button.colab-df-convert');\n",
              "      buttonEl.style.display =\n",
              "        google.colab.kernel.accessAllowed ? 'block' : 'none';\n",
              "\n",
              "      async function convertToInteractive(key) {\n",
              "        const element = document.querySelector('#df-4cbefbf4-f404-4ed5-9005-cfa8499d4847');\n",
              "        const dataTable =\n",
              "          await google.colab.kernel.invokeFunction('convertToInteractive',\n",
              "                                                    [key], {});\n",
              "        if (!dataTable) return;\n",
              "\n",
              "        const docLinkHtml = 'Like what you see? Visit the ' +\n",
              "          '<a target=\"_blank\" href=https://colab.research.google.com/notebooks/data_table.ipynb>data table notebook</a>'\n",
              "          + ' to learn more about interactive tables.';\n",
              "        element.innerHTML = '';\n",
              "        dataTable['output_type'] = 'display_data';\n",
              "        await google.colab.output.renderOutput(dataTable, element);\n",
              "        const docLink = document.createElement('div');\n",
              "        docLink.innerHTML = docLinkHtml;\n",
              "        element.appendChild(docLink);\n",
              "      }\n",
              "    </script>\n",
              "  </div>\n",
              "\n",
              "\n",
              "<div id=\"df-edcda4ea-969a-4b35-9630-2e72f587152e\">\n",
              "  <button class=\"colab-df-quickchart\" onclick=\"quickchart('df-edcda4ea-969a-4b35-9630-2e72f587152e')\"\n",
              "            title=\"Suggest charts\"\n",
              "            style=\"display:none;\">\n",
              "\n",
              "<svg xmlns=\"http://www.w3.org/2000/svg\" height=\"24px\"viewBox=\"0 0 24 24\"\n",
              "     width=\"24px\">\n",
              "    <g>\n",
              "        <path d=\"M19 3H5c-1.1 0-2 .9-2 2v14c0 1.1.9 2 2 2h14c1.1 0 2-.9 2-2V5c0-1.1-.9-2-2-2zM9 17H7v-7h2v7zm4 0h-2V7h2v10zm4 0h-2v-4h2v4z\"/>\n",
              "    </g>\n",
              "</svg>\n",
              "  </button>\n",
              "\n",
              "<style>\n",
              "  .colab-df-quickchart {\n",
              "      --bg-color: #E8F0FE;\n",
              "      --fill-color: #1967D2;\n",
              "      --hover-bg-color: #E2EBFA;\n",
              "      --hover-fill-color: #174EA6;\n",
              "      --disabled-fill-color: #AAA;\n",
              "      --disabled-bg-color: #DDD;\n",
              "  }\n",
              "\n",
              "  [theme=dark] .colab-df-quickchart {\n",
              "      --bg-color: #3B4455;\n",
              "      --fill-color: #D2E3FC;\n",
              "      --hover-bg-color: #434B5C;\n",
              "      --hover-fill-color: #FFFFFF;\n",
              "      --disabled-bg-color: #3B4455;\n",
              "      --disabled-fill-color: #666;\n",
              "  }\n",
              "\n",
              "  .colab-df-quickchart {\n",
              "    background-color: var(--bg-color);\n",
              "    border: none;\n",
              "    border-radius: 50%;\n",
              "    cursor: pointer;\n",
              "    display: none;\n",
              "    fill: var(--fill-color);\n",
              "    height: 32px;\n",
              "    padding: 0;\n",
              "    width: 32px;\n",
              "  }\n",
              "\n",
              "  .colab-df-quickchart:hover {\n",
              "    background-color: var(--hover-bg-color);\n",
              "    box-shadow: 0 1px 2px rgba(60, 64, 67, 0.3), 0 1px 3px 1px rgba(60, 64, 67, 0.15);\n",
              "    fill: var(--button-hover-fill-color);\n",
              "  }\n",
              "\n",
              "  .colab-df-quickchart-complete:disabled,\n",
              "  .colab-df-quickchart-complete:disabled:hover {\n",
              "    background-color: var(--disabled-bg-color);\n",
              "    fill: var(--disabled-fill-color);\n",
              "    box-shadow: none;\n",
              "  }\n",
              "\n",
              "  .colab-df-spinner {\n",
              "    border: 2px solid var(--fill-color);\n",
              "    border-color: transparent;\n",
              "    border-bottom-color: var(--fill-color);\n",
              "    animation:\n",
              "      spin 1s steps(1) infinite;\n",
              "  }\n",
              "\n",
              "  @keyframes spin {\n",
              "    0% {\n",
              "      border-color: transparent;\n",
              "      border-bottom-color: var(--fill-color);\n",
              "      border-left-color: var(--fill-color);\n",
              "    }\n",
              "    20% {\n",
              "      border-color: transparent;\n",
              "      border-left-color: var(--fill-color);\n",
              "      border-top-color: var(--fill-color);\n",
              "    }\n",
              "    30% {\n",
              "      border-color: transparent;\n",
              "      border-left-color: var(--fill-color);\n",
              "      border-top-color: var(--fill-color);\n",
              "      border-right-color: var(--fill-color);\n",
              "    }\n",
              "    40% {\n",
              "      border-color: transparent;\n",
              "      border-right-color: var(--fill-color);\n",
              "      border-top-color: var(--fill-color);\n",
              "    }\n",
              "    60% {\n",
              "      border-color: transparent;\n",
              "      border-right-color: var(--fill-color);\n",
              "    }\n",
              "    80% {\n",
              "      border-color: transparent;\n",
              "      border-right-color: var(--fill-color);\n",
              "      border-bottom-color: var(--fill-color);\n",
              "    }\n",
              "    90% {\n",
              "      border-color: transparent;\n",
              "      border-bottom-color: var(--fill-color);\n",
              "    }\n",
              "  }\n",
              "</style>\n",
              "\n",
              "  <script>\n",
              "    async function quickchart(key) {\n",
              "      const quickchartButtonEl =\n",
              "        document.querySelector('#' + key + ' button');\n",
              "      quickchartButtonEl.disabled = true;  // To prevent multiple clicks.\n",
              "      quickchartButtonEl.classList.add('colab-df-spinner');\n",
              "      try {\n",
              "        const charts = await google.colab.kernel.invokeFunction(\n",
              "            'suggestCharts', [key], {});\n",
              "      } catch (error) {\n",
              "        console.error('Error during call to suggestCharts:', error);\n",
              "      }\n",
              "      quickchartButtonEl.classList.remove('colab-df-spinner');\n",
              "      quickchartButtonEl.classList.add('colab-df-quickchart-complete');\n",
              "    }\n",
              "    (() => {\n",
              "      let quickchartButtonEl =\n",
              "        document.querySelector('#df-edcda4ea-969a-4b35-9630-2e72f587152e button');\n",
              "      quickchartButtonEl.style.display =\n",
              "        google.colab.kernel.accessAllowed ? 'block' : 'none';\n",
              "    })();\n",
              "  </script>\n",
              "</div>\n",
              "\n",
              "    </div>\n",
              "  </div>\n"
            ],
            "application/vnd.google.colaboratory.intrinsic+json": {
              "type": "dataframe",
              "variable_name": "data",
              "summary": "{\n  \"name\": \"data\",\n  \"rows\": 178,\n  \"fields\": [\n    {\n      \"column\": \"Alcohol\",\n      \"properties\": {\n        \"dtype\": \"number\",\n        \"std\": 0.8118265380058575,\n        \"min\": 11.03,\n        \"max\": 14.83,\n        \"num_unique_values\": 126,\n        \"samples\": [\n          11.62,\n          13.64,\n          13.69\n        ],\n        \"semantic_type\": \"\",\n        \"description\": \"\"\n      }\n    },\n    {\n      \"column\": \"Malic_Acid\",\n      \"properties\": {\n        \"dtype\": \"number\",\n        \"std\": 1.1171460976144627,\n        \"min\": 0.74,\n        \"max\": 5.8,\n        \"num_unique_values\": 133,\n        \"samples\": [\n          1.21,\n          2.83,\n          1.8\n        ],\n        \"semantic_type\": \"\",\n        \"description\": \"\"\n      }\n    },\n    {\n      \"column\": \"Ash\",\n      \"properties\": {\n        \"dtype\": \"number\",\n        \"std\": 0.27434400906081485,\n        \"min\": 1.36,\n        \"max\": 3.23,\n        \"num_unique_values\": 79,\n        \"samples\": [\n          2.31,\n          2.43,\n          2.52\n        ],\n        \"semantic_type\": \"\",\n        \"description\": \"\"\n      }\n    },\n    {\n      \"column\": \"Ash_Alcanity\",\n      \"properties\": {\n        \"dtype\": \"number\",\n        \"std\": 3.339563767173505,\n        \"min\": 10.6,\n        \"max\": 30.0,\n        \"num_unique_values\": 63,\n        \"samples\": [\n          25.5,\n          28.5,\n          15.6\n        ],\n        \"semantic_type\": \"\",\n        \"description\": \"\"\n      }\n    },\n    {\n      \"column\": \"Magnesium\",\n      \"properties\": {\n        \"dtype\": \"number\",\n        \"std\": 14,\n        \"min\": 70,\n        \"max\": 162,\n        \"num_unique_values\": 53,\n        \"samples\": [\n          126,\n          85,\n          162\n        ],\n        \"semantic_type\": \"\",\n        \"description\": \"\"\n      }\n    },\n    {\n      \"column\": \"Total_Phenols\",\n      \"properties\": {\n        \"dtype\": \"number\",\n        \"std\": 0.6258510488339893,\n        \"min\": 0.98,\n        \"max\": 3.88,\n        \"num_unique_values\": 97,\n        \"samples\": [\n          1.68,\n          2.11,\n          1.35\n        ],\n        \"semantic_type\": \"\",\n        \"description\": \"\"\n      }\n    },\n    {\n      \"column\": \"Flavanoids\",\n      \"properties\": {\n        \"dtype\": \"number\",\n        \"std\": 0.9988586850169467,\n        \"min\": 0.34,\n        \"max\": 5.08,\n        \"num_unique_values\": 132,\n        \"samples\": [\n          3.18,\n          2.5,\n          3.17\n        ],\n        \"semantic_type\": \"\",\n        \"description\": \"\"\n      }\n    },\n    {\n      \"column\": \"Nonflavanoid_Phenols\",\n      \"properties\": {\n        \"dtype\": \"number\",\n        \"std\": 0.12445334029667937,\n        \"min\": 0.13,\n        \"max\": 0.66,\n        \"num_unique_values\": 39,\n        \"samples\": [\n          0.58,\n          0.41,\n          0.39\n        ],\n        \"semantic_type\": \"\",\n        \"description\": \"\"\n      }\n    },\n    {\n      \"column\": \"Proanthocyanins\",\n      \"properties\": {\n        \"dtype\": \"number\",\n        \"std\": 0.5723588626747613,\n        \"min\": 0.41,\n        \"max\": 3.58,\n        \"num_unique_values\": 101,\n        \"samples\": [\n          0.75,\n          1.77,\n          1.42\n        ],\n        \"semantic_type\": \"\",\n        \"description\": \"\"\n      }\n    },\n    {\n      \"column\": \"Color_Intensity\",\n      \"properties\": {\n        \"dtype\": \"number\",\n        \"std\": 2.318285871822413,\n        \"min\": 1.28,\n        \"max\": 13.0,\n        \"num_unique_values\": 132,\n        \"samples\": [\n          2.95,\n          3.3,\n          5.1\n        ],\n        \"semantic_type\": \"\",\n        \"description\": \"\"\n      }\n    },\n    {\n      \"column\": \"Hue\",\n      \"properties\": {\n        \"dtype\": \"number\",\n        \"std\": 0.22857156582982338,\n        \"min\": 0.48,\n        \"max\": 1.71,\n        \"num_unique_values\": 78,\n        \"samples\": [\n          1.22,\n          1.04,\n          1.45\n        ],\n        \"semantic_type\": \"\",\n        \"description\": \"\"\n      }\n    },\n    {\n      \"column\": \"OD280\",\n      \"properties\": {\n        \"dtype\": \"number\",\n        \"std\": 0.7099904287650504,\n        \"min\": 1.27,\n        \"max\": 4.0,\n        \"num_unique_values\": 122,\n        \"samples\": [\n          4.0,\n          1.82,\n          1.59\n        ],\n        \"semantic_type\": \"\",\n        \"description\": \"\"\n      }\n    },\n    {\n      \"column\": \"Proline\",\n      \"properties\": {\n        \"dtype\": \"number\",\n        \"std\": 314,\n        \"min\": 278,\n        \"max\": 1680,\n        \"num_unique_values\": 121,\n        \"samples\": [\n          1375,\n          1270,\n          735\n        ],\n        \"semantic_type\": \"\",\n        \"description\": \"\"\n      }\n    }\n  ]\n}"
            }
          },
          "metadata": {},
          "execution_count": 34
        }
      ]
    },
    {
      "cell_type": "code",
      "source": [
        "data.info()"
      ],
      "metadata": {
        "colab": {
          "base_uri": "https://localhost:8080/"
        },
        "id": "yQ-0kbGz-1oI",
        "outputId": "b98f20af-7727-48c9-c669-d87143d43546"
      },
      "execution_count": 35,
      "outputs": [
        {
          "output_type": "stream",
          "name": "stdout",
          "text": [
            "<class 'pandas.core.frame.DataFrame'>\n",
            "RangeIndex: 178 entries, 0 to 177\n",
            "Data columns (total 13 columns):\n",
            " #   Column                Non-Null Count  Dtype  \n",
            "---  ------                --------------  -----  \n",
            " 0   Alcohol               178 non-null    float64\n",
            " 1   Malic_Acid            178 non-null    float64\n",
            " 2   Ash                   178 non-null    float64\n",
            " 3   Ash_Alcanity          178 non-null    float64\n",
            " 4   Magnesium             178 non-null    int64  \n",
            " 5   Total_Phenols         178 non-null    float64\n",
            " 6   Flavanoids            178 non-null    float64\n",
            " 7   Nonflavanoid_Phenols  178 non-null    float64\n",
            " 8   Proanthocyanins       178 non-null    float64\n",
            " 9   Color_Intensity       178 non-null    float64\n",
            " 10  Hue                   178 non-null    float64\n",
            " 11  OD280                 178 non-null    float64\n",
            " 12  Proline               178 non-null    int64  \n",
            "dtypes: float64(11), int64(2)\n",
            "memory usage: 18.2 KB\n"
          ]
        }
      ]
    },
    {
      "cell_type": "code",
      "source": [
        "data.shape"
      ],
      "metadata": {
        "colab": {
          "base_uri": "https://localhost:8080/"
        },
        "id": "57r145yaB34j",
        "outputId": "32f390b9-2259-4d4e-a742-2674fac8adba"
      },
      "execution_count": 36,
      "outputs": [
        {
          "output_type": "execute_result",
          "data": {
            "text/plain": [
              "(178, 13)"
            ]
          },
          "metadata": {},
          "execution_count": 36
        }
      ]
    },
    {
      "cell_type": "code",
      "source": [
        "data.describe()"
      ],
      "metadata": {
        "id": "Um_C7mQ4-5Dp",
        "colab": {
          "base_uri": "https://localhost:8080/",
          "height": 320
        },
        "outputId": "72f853c7-0f7e-4bb8-aca6-bcd07d1bca93"
      },
      "execution_count": 37,
      "outputs": [
        {
          "output_type": "execute_result",
          "data": {
            "text/plain": [
              "          Alcohol  Malic_Acid         Ash  Ash_Alcanity   Magnesium  \\\n",
              "count  178.000000  178.000000  178.000000    178.000000  178.000000   \n",
              "mean    13.000618    2.336348    2.366517     19.494944   99.741573   \n",
              "std      0.811827    1.117146    0.274344      3.339564   14.282484   \n",
              "min     11.030000    0.740000    1.360000     10.600000   70.000000   \n",
              "25%     12.362500    1.602500    2.210000     17.200000   88.000000   \n",
              "50%     13.050000    1.865000    2.360000     19.500000   98.000000   \n",
              "75%     13.677500    3.082500    2.557500     21.500000  107.000000   \n",
              "max     14.830000    5.800000    3.230000     30.000000  162.000000   \n",
              "\n",
              "       Total_Phenols  Flavanoids  Nonflavanoid_Phenols  Proanthocyanins  \\\n",
              "count     178.000000  178.000000            178.000000       178.000000   \n",
              "mean        2.295112    2.029270              0.361854         1.590899   \n",
              "std         0.625851    0.998859              0.124453         0.572359   \n",
              "min         0.980000    0.340000              0.130000         0.410000   \n",
              "25%         1.742500    1.205000              0.270000         1.250000   \n",
              "50%         2.355000    2.135000              0.340000         1.555000   \n",
              "75%         2.800000    2.875000              0.437500         1.950000   \n",
              "max         3.880000    5.080000              0.660000         3.580000   \n",
              "\n",
              "       Color_Intensity         Hue       OD280      Proline  \n",
              "count       178.000000  178.000000  178.000000   178.000000  \n",
              "mean          5.058090    0.957449    2.611685   746.893258  \n",
              "std           2.318286    0.228572    0.709990   314.907474  \n",
              "min           1.280000    0.480000    1.270000   278.000000  \n",
              "25%           3.220000    0.782500    1.937500   500.500000  \n",
              "50%           4.690000    0.965000    2.780000   673.500000  \n",
              "75%           6.200000    1.120000    3.170000   985.000000  \n",
              "max          13.000000    1.710000    4.000000  1680.000000  "
            ],
            "text/html": [
              "\n",
              "  <div id=\"df-553852d1-9262-4829-a331-314174612d58\" class=\"colab-df-container\">\n",
              "    <div>\n",
              "<style scoped>\n",
              "    .dataframe tbody tr th:only-of-type {\n",
              "        vertical-align: middle;\n",
              "    }\n",
              "\n",
              "    .dataframe tbody tr th {\n",
              "        vertical-align: top;\n",
              "    }\n",
              "\n",
              "    .dataframe thead th {\n",
              "        text-align: right;\n",
              "    }\n",
              "</style>\n",
              "<table border=\"1\" class=\"dataframe\">\n",
              "  <thead>\n",
              "    <tr style=\"text-align: right;\">\n",
              "      <th></th>\n",
              "      <th>Alcohol</th>\n",
              "      <th>Malic_Acid</th>\n",
              "      <th>Ash</th>\n",
              "      <th>Ash_Alcanity</th>\n",
              "      <th>Magnesium</th>\n",
              "      <th>Total_Phenols</th>\n",
              "      <th>Flavanoids</th>\n",
              "      <th>Nonflavanoid_Phenols</th>\n",
              "      <th>Proanthocyanins</th>\n",
              "      <th>Color_Intensity</th>\n",
              "      <th>Hue</th>\n",
              "      <th>OD280</th>\n",
              "      <th>Proline</th>\n",
              "    </tr>\n",
              "  </thead>\n",
              "  <tbody>\n",
              "    <tr>\n",
              "      <th>count</th>\n",
              "      <td>178.000000</td>\n",
              "      <td>178.000000</td>\n",
              "      <td>178.000000</td>\n",
              "      <td>178.000000</td>\n",
              "      <td>178.000000</td>\n",
              "      <td>178.000000</td>\n",
              "      <td>178.000000</td>\n",
              "      <td>178.000000</td>\n",
              "      <td>178.000000</td>\n",
              "      <td>178.000000</td>\n",
              "      <td>178.000000</td>\n",
              "      <td>178.000000</td>\n",
              "      <td>178.000000</td>\n",
              "    </tr>\n",
              "    <tr>\n",
              "      <th>mean</th>\n",
              "      <td>13.000618</td>\n",
              "      <td>2.336348</td>\n",
              "      <td>2.366517</td>\n",
              "      <td>19.494944</td>\n",
              "      <td>99.741573</td>\n",
              "      <td>2.295112</td>\n",
              "      <td>2.029270</td>\n",
              "      <td>0.361854</td>\n",
              "      <td>1.590899</td>\n",
              "      <td>5.058090</td>\n",
              "      <td>0.957449</td>\n",
              "      <td>2.611685</td>\n",
              "      <td>746.893258</td>\n",
              "    </tr>\n",
              "    <tr>\n",
              "      <th>std</th>\n",
              "      <td>0.811827</td>\n",
              "      <td>1.117146</td>\n",
              "      <td>0.274344</td>\n",
              "      <td>3.339564</td>\n",
              "      <td>14.282484</td>\n",
              "      <td>0.625851</td>\n",
              "      <td>0.998859</td>\n",
              "      <td>0.124453</td>\n",
              "      <td>0.572359</td>\n",
              "      <td>2.318286</td>\n",
              "      <td>0.228572</td>\n",
              "      <td>0.709990</td>\n",
              "      <td>314.907474</td>\n",
              "    </tr>\n",
              "    <tr>\n",
              "      <th>min</th>\n",
              "      <td>11.030000</td>\n",
              "      <td>0.740000</td>\n",
              "      <td>1.360000</td>\n",
              "      <td>10.600000</td>\n",
              "      <td>70.000000</td>\n",
              "      <td>0.980000</td>\n",
              "      <td>0.340000</td>\n",
              "      <td>0.130000</td>\n",
              "      <td>0.410000</td>\n",
              "      <td>1.280000</td>\n",
              "      <td>0.480000</td>\n",
              "      <td>1.270000</td>\n",
              "      <td>278.000000</td>\n",
              "    </tr>\n",
              "    <tr>\n",
              "      <th>25%</th>\n",
              "      <td>12.362500</td>\n",
              "      <td>1.602500</td>\n",
              "      <td>2.210000</td>\n",
              "      <td>17.200000</td>\n",
              "      <td>88.000000</td>\n",
              "      <td>1.742500</td>\n",
              "      <td>1.205000</td>\n",
              "      <td>0.270000</td>\n",
              "      <td>1.250000</td>\n",
              "      <td>3.220000</td>\n",
              "      <td>0.782500</td>\n",
              "      <td>1.937500</td>\n",
              "      <td>500.500000</td>\n",
              "    </tr>\n",
              "    <tr>\n",
              "      <th>50%</th>\n",
              "      <td>13.050000</td>\n",
              "      <td>1.865000</td>\n",
              "      <td>2.360000</td>\n",
              "      <td>19.500000</td>\n",
              "      <td>98.000000</td>\n",
              "      <td>2.355000</td>\n",
              "      <td>2.135000</td>\n",
              "      <td>0.340000</td>\n",
              "      <td>1.555000</td>\n",
              "      <td>4.690000</td>\n",
              "      <td>0.965000</td>\n",
              "      <td>2.780000</td>\n",
              "      <td>673.500000</td>\n",
              "    </tr>\n",
              "    <tr>\n",
              "      <th>75%</th>\n",
              "      <td>13.677500</td>\n",
              "      <td>3.082500</td>\n",
              "      <td>2.557500</td>\n",
              "      <td>21.500000</td>\n",
              "      <td>107.000000</td>\n",
              "      <td>2.800000</td>\n",
              "      <td>2.875000</td>\n",
              "      <td>0.437500</td>\n",
              "      <td>1.950000</td>\n",
              "      <td>6.200000</td>\n",
              "      <td>1.120000</td>\n",
              "      <td>3.170000</td>\n",
              "      <td>985.000000</td>\n",
              "    </tr>\n",
              "    <tr>\n",
              "      <th>max</th>\n",
              "      <td>14.830000</td>\n",
              "      <td>5.800000</td>\n",
              "      <td>3.230000</td>\n",
              "      <td>30.000000</td>\n",
              "      <td>162.000000</td>\n",
              "      <td>3.880000</td>\n",
              "      <td>5.080000</td>\n",
              "      <td>0.660000</td>\n",
              "      <td>3.580000</td>\n",
              "      <td>13.000000</td>\n",
              "      <td>1.710000</td>\n",
              "      <td>4.000000</td>\n",
              "      <td>1680.000000</td>\n",
              "    </tr>\n",
              "  </tbody>\n",
              "</table>\n",
              "</div>\n",
              "    <div class=\"colab-df-buttons\">\n",
              "\n",
              "  <div class=\"colab-df-container\">\n",
              "    <button class=\"colab-df-convert\" onclick=\"convertToInteractive('df-553852d1-9262-4829-a331-314174612d58')\"\n",
              "            title=\"Convert this dataframe to an interactive table.\"\n",
              "            style=\"display:none;\">\n",
              "\n",
              "  <svg xmlns=\"http://www.w3.org/2000/svg\" height=\"24px\" viewBox=\"0 -960 960 960\">\n",
              "    <path d=\"M120-120v-720h720v720H120Zm60-500h600v-160H180v160Zm220 220h160v-160H400v160Zm0 220h160v-160H400v160ZM180-400h160v-160H180v160Zm440 0h160v-160H620v160ZM180-180h160v-160H180v160Zm440 0h160v-160H620v160Z\"/>\n",
              "  </svg>\n",
              "    </button>\n",
              "\n",
              "  <style>\n",
              "    .colab-df-container {\n",
              "      display:flex;\n",
              "      gap: 12px;\n",
              "    }\n",
              "\n",
              "    .colab-df-convert {\n",
              "      background-color: #E8F0FE;\n",
              "      border: none;\n",
              "      border-radius: 50%;\n",
              "      cursor: pointer;\n",
              "      display: none;\n",
              "      fill: #1967D2;\n",
              "      height: 32px;\n",
              "      padding: 0 0 0 0;\n",
              "      width: 32px;\n",
              "    }\n",
              "\n",
              "    .colab-df-convert:hover {\n",
              "      background-color: #E2EBFA;\n",
              "      box-shadow: 0px 1px 2px rgba(60, 64, 67, 0.3), 0px 1px 3px 1px rgba(60, 64, 67, 0.15);\n",
              "      fill: #174EA6;\n",
              "    }\n",
              "\n",
              "    .colab-df-buttons div {\n",
              "      margin-bottom: 4px;\n",
              "    }\n",
              "\n",
              "    [theme=dark] .colab-df-convert {\n",
              "      background-color: #3B4455;\n",
              "      fill: #D2E3FC;\n",
              "    }\n",
              "\n",
              "    [theme=dark] .colab-df-convert:hover {\n",
              "      background-color: #434B5C;\n",
              "      box-shadow: 0px 1px 3px 1px rgba(0, 0, 0, 0.15);\n",
              "      filter: drop-shadow(0px 1px 2px rgba(0, 0, 0, 0.3));\n",
              "      fill: #FFFFFF;\n",
              "    }\n",
              "  </style>\n",
              "\n",
              "    <script>\n",
              "      const buttonEl =\n",
              "        document.querySelector('#df-553852d1-9262-4829-a331-314174612d58 button.colab-df-convert');\n",
              "      buttonEl.style.display =\n",
              "        google.colab.kernel.accessAllowed ? 'block' : 'none';\n",
              "\n",
              "      async function convertToInteractive(key) {\n",
              "        const element = document.querySelector('#df-553852d1-9262-4829-a331-314174612d58');\n",
              "        const dataTable =\n",
              "          await google.colab.kernel.invokeFunction('convertToInteractive',\n",
              "                                                    [key], {});\n",
              "        if (!dataTable) return;\n",
              "\n",
              "        const docLinkHtml = 'Like what you see? Visit the ' +\n",
              "          '<a target=\"_blank\" href=https://colab.research.google.com/notebooks/data_table.ipynb>data table notebook</a>'\n",
              "          + ' to learn more about interactive tables.';\n",
              "        element.innerHTML = '';\n",
              "        dataTable['output_type'] = 'display_data';\n",
              "        await google.colab.output.renderOutput(dataTable, element);\n",
              "        const docLink = document.createElement('div');\n",
              "        docLink.innerHTML = docLinkHtml;\n",
              "        element.appendChild(docLink);\n",
              "      }\n",
              "    </script>\n",
              "  </div>\n",
              "\n",
              "\n",
              "<div id=\"df-3769860b-9f06-4aa4-8713-b1bf236a2fa3\">\n",
              "  <button class=\"colab-df-quickchart\" onclick=\"quickchart('df-3769860b-9f06-4aa4-8713-b1bf236a2fa3')\"\n",
              "            title=\"Suggest charts\"\n",
              "            style=\"display:none;\">\n",
              "\n",
              "<svg xmlns=\"http://www.w3.org/2000/svg\" height=\"24px\"viewBox=\"0 0 24 24\"\n",
              "     width=\"24px\">\n",
              "    <g>\n",
              "        <path d=\"M19 3H5c-1.1 0-2 .9-2 2v14c0 1.1.9 2 2 2h14c1.1 0 2-.9 2-2V5c0-1.1-.9-2-2-2zM9 17H7v-7h2v7zm4 0h-2V7h2v10zm4 0h-2v-4h2v4z\"/>\n",
              "    </g>\n",
              "</svg>\n",
              "  </button>\n",
              "\n",
              "<style>\n",
              "  .colab-df-quickchart {\n",
              "      --bg-color: #E8F0FE;\n",
              "      --fill-color: #1967D2;\n",
              "      --hover-bg-color: #E2EBFA;\n",
              "      --hover-fill-color: #174EA6;\n",
              "      --disabled-fill-color: #AAA;\n",
              "      --disabled-bg-color: #DDD;\n",
              "  }\n",
              "\n",
              "  [theme=dark] .colab-df-quickchart {\n",
              "      --bg-color: #3B4455;\n",
              "      --fill-color: #D2E3FC;\n",
              "      --hover-bg-color: #434B5C;\n",
              "      --hover-fill-color: #FFFFFF;\n",
              "      --disabled-bg-color: #3B4455;\n",
              "      --disabled-fill-color: #666;\n",
              "  }\n",
              "\n",
              "  .colab-df-quickchart {\n",
              "    background-color: var(--bg-color);\n",
              "    border: none;\n",
              "    border-radius: 50%;\n",
              "    cursor: pointer;\n",
              "    display: none;\n",
              "    fill: var(--fill-color);\n",
              "    height: 32px;\n",
              "    padding: 0;\n",
              "    width: 32px;\n",
              "  }\n",
              "\n",
              "  .colab-df-quickchart:hover {\n",
              "    background-color: var(--hover-bg-color);\n",
              "    box-shadow: 0 1px 2px rgba(60, 64, 67, 0.3), 0 1px 3px 1px rgba(60, 64, 67, 0.15);\n",
              "    fill: var(--button-hover-fill-color);\n",
              "  }\n",
              "\n",
              "  .colab-df-quickchart-complete:disabled,\n",
              "  .colab-df-quickchart-complete:disabled:hover {\n",
              "    background-color: var(--disabled-bg-color);\n",
              "    fill: var(--disabled-fill-color);\n",
              "    box-shadow: none;\n",
              "  }\n",
              "\n",
              "  .colab-df-spinner {\n",
              "    border: 2px solid var(--fill-color);\n",
              "    border-color: transparent;\n",
              "    border-bottom-color: var(--fill-color);\n",
              "    animation:\n",
              "      spin 1s steps(1) infinite;\n",
              "  }\n",
              "\n",
              "  @keyframes spin {\n",
              "    0% {\n",
              "      border-color: transparent;\n",
              "      border-bottom-color: var(--fill-color);\n",
              "      border-left-color: var(--fill-color);\n",
              "    }\n",
              "    20% {\n",
              "      border-color: transparent;\n",
              "      border-left-color: var(--fill-color);\n",
              "      border-top-color: var(--fill-color);\n",
              "    }\n",
              "    30% {\n",
              "      border-color: transparent;\n",
              "      border-left-color: var(--fill-color);\n",
              "      border-top-color: var(--fill-color);\n",
              "      border-right-color: var(--fill-color);\n",
              "    }\n",
              "    40% {\n",
              "      border-color: transparent;\n",
              "      border-right-color: var(--fill-color);\n",
              "      border-top-color: var(--fill-color);\n",
              "    }\n",
              "    60% {\n",
              "      border-color: transparent;\n",
              "      border-right-color: var(--fill-color);\n",
              "    }\n",
              "    80% {\n",
              "      border-color: transparent;\n",
              "      border-right-color: var(--fill-color);\n",
              "      border-bottom-color: var(--fill-color);\n",
              "    }\n",
              "    90% {\n",
              "      border-color: transparent;\n",
              "      border-bottom-color: var(--fill-color);\n",
              "    }\n",
              "  }\n",
              "</style>\n",
              "\n",
              "  <script>\n",
              "    async function quickchart(key) {\n",
              "      const quickchartButtonEl =\n",
              "        document.querySelector('#' + key + ' button');\n",
              "      quickchartButtonEl.disabled = true;  // To prevent multiple clicks.\n",
              "      quickchartButtonEl.classList.add('colab-df-spinner');\n",
              "      try {\n",
              "        const charts = await google.colab.kernel.invokeFunction(\n",
              "            'suggestCharts', [key], {});\n",
              "      } catch (error) {\n",
              "        console.error('Error during call to suggestCharts:', error);\n",
              "      }\n",
              "      quickchartButtonEl.classList.remove('colab-df-spinner');\n",
              "      quickchartButtonEl.classList.add('colab-df-quickchart-complete');\n",
              "    }\n",
              "    (() => {\n",
              "      let quickchartButtonEl =\n",
              "        document.querySelector('#df-3769860b-9f06-4aa4-8713-b1bf236a2fa3 button');\n",
              "      quickchartButtonEl.style.display =\n",
              "        google.colab.kernel.accessAllowed ? 'block' : 'none';\n",
              "    })();\n",
              "  </script>\n",
              "</div>\n",
              "\n",
              "    </div>\n",
              "  </div>\n"
            ],
            "application/vnd.google.colaboratory.intrinsic+json": {
              "type": "dataframe",
              "summary": "{\n  \"name\": \"data\",\n  \"rows\": 8,\n  \"fields\": [\n    {\n      \"column\": \"Alcohol\",\n      \"properties\": {\n        \"dtype\": \"number\",\n        \"std\": 59.11804622765535,\n        \"min\": 0.8118265380058575,\n        \"max\": 178.0,\n        \"num_unique_values\": 8,\n        \"samples\": [\n          13.00061797752809,\n          13.05,\n          178.0\n        ],\n        \"semantic_type\": \"\",\n        \"description\": \"\"\n      }\n    },\n    {\n      \"column\": \"Malic_Acid\",\n      \"properties\": {\n        \"dtype\": \"number\",\n        \"std\": 62.116878053835904,\n        \"min\": 0.74,\n        \"max\": 178.0,\n        \"num_unique_values\": 8,\n        \"samples\": [\n          2.3363483146067416,\n          1.8650000000000002,\n          178.0\n        ],\n        \"semantic_type\": \"\",\n        \"description\": \"\"\n      }\n    },\n    {\n      \"column\": \"Ash\",\n      \"properties\": {\n        \"dtype\": \"number\",\n        \"std\": 62.213612771606805,\n        \"min\": 0.27434400906081485,\n        \"max\": 178.0,\n        \"num_unique_values\": 8,\n        \"samples\": [\n          2.3665168539325845,\n          2.36,\n          178.0\n        ],\n        \"semantic_type\": \"\",\n        \"description\": \"\"\n      }\n    },\n    {\n      \"column\": \"Ash_Alcanity\",\n      \"properties\": {\n        \"dtype\": \"number\",\n        \"std\": 57.32526338306687,\n        \"min\": 3.339563767173505,\n        \"max\": 178.0,\n        \"num_unique_values\": 8,\n        \"samples\": [\n          19.49494382022472,\n          19.5,\n          178.0\n        ],\n        \"semantic_type\": \"\",\n        \"description\": \"\"\n      }\n    },\n    {\n      \"column\": \"Magnesium\",\n      \"properties\": {\n        \"dtype\": \"number\",\n        \"std\": 51.18081686409121,\n        \"min\": 14.282483515295665,\n        \"max\": 178.0,\n        \"num_unique_values\": 8,\n        \"samples\": [\n          99.74157303370787,\n          98.0,\n          178.0\n        ],\n        \"semantic_type\": \"\",\n        \"description\": \"\"\n      }\n    },\n    {\n      \"column\": \"Total_Phenols\",\n      \"properties\": {\n        \"dtype\": \"number\",\n        \"std\": 62.19953212829461,\n        \"min\": 0.6258510488339893,\n        \"max\": 178.0,\n        \"num_unique_values\": 8,\n        \"samples\": [\n          2.295112359550562,\n          2.355,\n          178.0\n        ],\n        \"semantic_type\": \"\",\n        \"description\": \"\"\n      }\n    },\n    {\n      \"column\": \"Flavanoids\",\n      \"properties\": {\n        \"dtype\": \"number\",\n        \"std\": 62.20866774807846,\n        \"min\": 0.34,\n        \"max\": 178.0,\n        \"num_unique_values\": 8,\n        \"samples\": [\n          2.0292696629213487,\n          2.135,\n          178.0\n        ],\n        \"semantic_type\": \"\",\n        \"description\": \"\"\n      }\n    },\n    {\n      \"column\": \"Nonflavanoid_Phenols\",\n      \"properties\": {\n        \"dtype\": \"number\",\n        \"std\": 62.81536936528359,\n        \"min\": 0.12445334029667937,\n        \"max\": 178.0,\n        \"num_unique_values\": 8,\n        \"samples\": [\n          0.3618539325842696,\n          0.34,\n          178.0\n        ],\n        \"semantic_type\": \"\",\n        \"description\": \"\"\n      }\n    },\n    {\n      \"column\": \"Proanthocyanins\",\n      \"properties\": {\n        \"dtype\": \"number\",\n        \"std\": 62.389141510191415,\n        \"min\": 0.41,\n        \"max\": 178.0,\n        \"num_unique_values\": 8,\n        \"samples\": [\n          1.5908988764044945,\n          1.5550000000000002,\n          178.0\n        ],\n        \"semantic_type\": \"\",\n        \"description\": \"\"\n      }\n    },\n    {\n      \"column\": \"Color_Intensity\",\n      \"properties\": {\n        \"dtype\": \"number\",\n        \"std\": 61.23070389608627,\n        \"min\": 1.28,\n        \"max\": 178.0,\n        \"num_unique_values\": 8,\n        \"samples\": [\n          5.058089882022472,\n          4.6899999999999995,\n          178.0\n        ],\n        \"semantic_type\": \"\",\n        \"description\": \"\"\n      }\n    },\n    {\n      \"column\": \"Hue\",\n      \"properties\": {\n        \"dtype\": \"number\",\n        \"std\": 62.618701002452724,\n        \"min\": 0.22857156582982338,\n        \"max\": 178.0,\n        \"num_unique_values\": 8,\n        \"samples\": [\n          0.9574494382022471,\n          0.965,\n          178.0\n        ],\n        \"semantic_type\": \"\",\n        \"description\": \"\"\n      }\n    },\n    {\n      \"column\": \"OD280\",\n      \"properties\": {\n        \"dtype\": \"number\",\n        \"std\": 62.109005977625,\n        \"min\": 0.7099904287650504,\n        \"max\": 178.0,\n        \"num_unique_values\": 8,\n        \"samples\": [\n          2.6116853932584267,\n          2.78,\n          178.0\n        ],\n        \"semantic_type\": \"\",\n        \"description\": \"\"\n      }\n    },\n    {\n      \"column\": \"Proline\",\n      \"properties\": {\n        \"dtype\": \"number\",\n        \"std\": 489.2848273029377,\n        \"min\": 178.0,\n        \"max\": 1680.0,\n        \"num_unique_values\": 8,\n        \"samples\": [\n          746.8932584269663,\n          673.5,\n          178.0\n        ],\n        \"semantic_type\": \"\",\n        \"description\": \"\"\n      }\n    }\n  ]\n}"
            }
          },
          "metadata": {},
          "execution_count": 37
        }
      ]
    },
    {
      "cell_type": "markdown",
      "source": [
        "CHECKING MISSING VALUES"
      ],
      "metadata": {
        "id": "ystJdk2j_fXe"
      }
    },
    {
      "cell_type": "code",
      "source": [
        "data.isna().sum()"
      ],
      "metadata": {
        "colab": {
          "base_uri": "https://localhost:8080/"
        },
        "id": "d8dSgbMZ_XCr",
        "outputId": "8b5abbf5-5084-4c74-9aea-78dd069022ba"
      },
      "execution_count": 38,
      "outputs": [
        {
          "output_type": "execute_result",
          "data": {
            "text/plain": [
              "Alcohol                 0\n",
              "Malic_Acid              0\n",
              "Ash                     0\n",
              "Ash_Alcanity            0\n",
              "Magnesium               0\n",
              "Total_Phenols           0\n",
              "Flavanoids              0\n",
              "Nonflavanoid_Phenols    0\n",
              "Proanthocyanins         0\n",
              "Color_Intensity         0\n",
              "Hue                     0\n",
              "OD280                   0\n",
              "Proline                 0\n",
              "dtype: int64"
            ]
          },
          "metadata": {},
          "execution_count": 38
        }
      ]
    },
    {
      "cell_type": "markdown",
      "source": [
        "SELECT COLUMS 1 AND 2 FOR CLUSTERING( Malic_Acid AND\tAsh)"
      ],
      "metadata": {
        "id": "kJapkVzi44cf"
      }
    },
    {
      "cell_type": "code",
      "source": [
        "X=data.iloc[:,[1,2]].values"
      ],
      "metadata": {
        "id": "jKJBJu-JA2bw"
      },
      "execution_count": 39,
      "outputs": []
    },
    {
      "cell_type": "code",
      "source": [
        "X"
      ],
      "metadata": {
        "colab": {
          "base_uri": "https://localhost:8080/"
        },
        "id": "_SLlDCUUBVLk",
        "outputId": "5af1f797-1a4d-4dac-9371-81ccf7cfd346"
      },
      "execution_count": 40,
      "outputs": [
        {
          "output_type": "execute_result",
          "data": {
            "text/plain": [
              "array([[1.71, 2.43],\n",
              "       [1.78, 2.14],\n",
              "       [2.36, 2.67],\n",
              "       [1.95, 2.5 ],\n",
              "       [2.59, 2.87],\n",
              "       [1.76, 2.45],\n",
              "       [1.87, 2.45],\n",
              "       [2.15, 2.61],\n",
              "       [1.64, 2.17],\n",
              "       [1.35, 2.27],\n",
              "       [2.16, 2.3 ],\n",
              "       [1.48, 2.32],\n",
              "       [1.73, 2.41],\n",
              "       [1.73, 2.39],\n",
              "       [1.87, 2.38],\n",
              "       [1.81, 2.7 ],\n",
              "       [1.92, 2.72],\n",
              "       [1.57, 2.62],\n",
              "       [1.59, 2.48],\n",
              "       [3.1 , 2.56],\n",
              "       [1.63, 2.28],\n",
              "       [3.8 , 2.65],\n",
              "       [1.86, 2.36],\n",
              "       [1.6 , 2.52],\n",
              "       [1.81, 2.61],\n",
              "       [2.05, 3.22],\n",
              "       [1.77, 2.62],\n",
              "       [1.72, 2.14],\n",
              "       [1.9 , 2.8 ],\n",
              "       [1.68, 2.21],\n",
              "       [1.5 , 2.7 ],\n",
              "       [1.66, 2.36],\n",
              "       [1.83, 2.36],\n",
              "       [1.53, 2.7 ],\n",
              "       [1.8 , 2.65],\n",
              "       [1.81, 2.41],\n",
              "       [1.64, 2.84],\n",
              "       [1.65, 2.55],\n",
              "       [1.5 , 2.1 ],\n",
              "       [3.99, 2.51],\n",
              "       [1.71, 2.31],\n",
              "       [3.84, 2.12],\n",
              "       [1.89, 2.59],\n",
              "       [3.98, 2.29],\n",
              "       [1.77, 2.1 ],\n",
              "       [4.04, 2.44],\n",
              "       [3.59, 2.28],\n",
              "       [1.68, 2.12],\n",
              "       [2.02, 2.4 ],\n",
              "       [1.73, 2.27],\n",
              "       [1.73, 2.04],\n",
              "       [1.65, 2.6 ],\n",
              "       [1.75, 2.42],\n",
              "       [1.9 , 2.68],\n",
              "       [1.67, 2.25],\n",
              "       [1.73, 2.46],\n",
              "       [1.7 , 2.3 ],\n",
              "       [1.97, 2.68],\n",
              "       [1.43, 2.5 ],\n",
              "       [0.94, 1.36],\n",
              "       [1.1 , 2.28],\n",
              "       [1.36, 2.02],\n",
              "       [1.25, 1.92],\n",
              "       [1.13, 2.16],\n",
              "       [1.45, 2.53],\n",
              "       [1.21, 2.56],\n",
              "       [1.01, 1.7 ],\n",
              "       [1.17, 1.92],\n",
              "       [0.94, 2.36],\n",
              "       [1.19, 1.75],\n",
              "       [1.61, 2.21],\n",
              "       [1.51, 2.67],\n",
              "       [1.66, 2.24],\n",
              "       [1.67, 2.6 ],\n",
              "       [1.09, 2.3 ],\n",
              "       [1.88, 1.92],\n",
              "       [0.9 , 1.71],\n",
              "       [2.89, 2.23],\n",
              "       [0.99, 1.95],\n",
              "       [3.87, 2.4 ],\n",
              "       [0.92, 2.  ],\n",
              "       [1.81, 2.2 ],\n",
              "       [1.13, 2.51],\n",
              "       [3.86, 2.32],\n",
              "       [0.89, 2.58],\n",
              "       [0.98, 2.24],\n",
              "       [1.61, 2.31],\n",
              "       [1.67, 2.62],\n",
              "       [2.06, 2.46],\n",
              "       [1.33, 2.3 ],\n",
              "       [1.83, 2.32],\n",
              "       [1.51, 2.42],\n",
              "       [1.53, 2.26],\n",
              "       [2.83, 2.22],\n",
              "       [1.99, 2.28],\n",
              "       [1.52, 2.2 ],\n",
              "       [2.12, 2.74],\n",
              "       [1.41, 1.98],\n",
              "       [1.07, 2.1 ],\n",
              "       [3.17, 2.21],\n",
              "       [2.08, 1.7 ],\n",
              "       [1.34, 1.9 ],\n",
              "       [2.45, 2.46],\n",
              "       [1.72, 1.88],\n",
              "       [1.73, 1.98],\n",
              "       [2.55, 2.27],\n",
              "       [1.73, 2.12],\n",
              "       [1.75, 2.28],\n",
              "       [1.29, 1.94],\n",
              "       [1.35, 2.7 ],\n",
              "       [3.74, 1.82],\n",
              "       [2.43, 2.17],\n",
              "       [2.68, 2.92],\n",
              "       [0.74, 2.5 ],\n",
              "       [1.39, 2.5 ],\n",
              "       [1.51, 2.2 ],\n",
              "       [1.47, 1.99],\n",
              "       [1.61, 2.19],\n",
              "       [3.43, 1.98],\n",
              "       [3.43, 2.  ],\n",
              "       [2.4 , 2.42],\n",
              "       [2.05, 3.23],\n",
              "       [4.43, 2.73],\n",
              "       [5.8 , 2.13],\n",
              "       [4.31, 2.39],\n",
              "       [2.16, 2.17],\n",
              "       [1.53, 2.29],\n",
              "       [2.13, 2.78],\n",
              "       [1.63, 2.3 ],\n",
              "       [4.3 , 2.38],\n",
              "       [1.35, 2.32],\n",
              "       [2.99, 2.4 ],\n",
              "       [2.31, 2.4 ],\n",
              "       [3.55, 2.36],\n",
              "       [1.24, 2.25],\n",
              "       [2.46, 2.2 ],\n",
              "       [4.72, 2.54],\n",
              "       [5.51, 2.64],\n",
              "       [3.59, 2.19],\n",
              "       [2.96, 2.61],\n",
              "       [2.81, 2.7 ],\n",
              "       [2.56, 2.35],\n",
              "       [3.17, 2.72],\n",
              "       [4.95, 2.35],\n",
              "       [3.88, 2.2 ],\n",
              "       [3.57, 2.15],\n",
              "       [5.04, 2.23],\n",
              "       [4.61, 2.48],\n",
              "       [3.24, 2.38],\n",
              "       [3.9 , 2.36],\n",
              "       [3.12, 2.62],\n",
              "       [2.67, 2.48],\n",
              "       [1.9 , 2.75],\n",
              "       [3.3 , 2.28],\n",
              "       [1.29, 2.1 ],\n",
              "       [5.19, 2.32],\n",
              "       [4.12, 2.38],\n",
              "       [3.03, 2.64],\n",
              "       [1.68, 2.7 ],\n",
              "       [1.67, 2.64],\n",
              "       [3.83, 2.38],\n",
              "       [3.26, 2.54],\n",
              "       [3.27, 2.58],\n",
              "       [3.45, 2.35],\n",
              "       [2.76, 2.3 ],\n",
              "       [4.36, 2.26],\n",
              "       [3.7 , 2.6 ],\n",
              "       [3.37, 2.3 ],\n",
              "       [2.58, 2.69],\n",
              "       [4.6 , 2.86],\n",
              "       [3.03, 2.32],\n",
              "       [2.39, 2.28],\n",
              "       [2.51, 2.48],\n",
              "       [5.65, 2.45],\n",
              "       [3.91, 2.48],\n",
              "       [4.28, 2.26],\n",
              "       [2.59, 2.37],\n",
              "       [4.1 , 2.74]])"
            ]
          },
          "metadata": {},
          "execution_count": 40
        }
      ]
    },
    {
      "cell_type": "markdown",
      "source": [
        "KMEANS CLUSTERING"
      ],
      "metadata": {
        "id": "OaKClC-55KSG"
      }
    },
    {
      "cell_type": "code",
      "source": [
        "from sklearn.cluster import KMeans\n",
        "wcss=[]\n",
        "for i in range (1,11):\n",
        "  kmeans=KMeans(n_clusters=i,init='k-means++',random_state=42)\n",
        "  kmeans.fit(X)\n",
        "  wcss.append(kmeans.inertia_)"
      ],
      "metadata": {
        "id": "O5ZSEPy6BXy7"
      },
      "execution_count": 41,
      "outputs": []
    },
    {
      "cell_type": "code",
      "source": [
        "wcss"
      ],
      "metadata": {
        "colab": {
          "base_uri": "https://localhost:8080/"
        },
        "id": "yHUfOJvzCT40",
        "outputId": "b2c90a00-00cd-4c6d-9f38-ef7df3e288f4"
      },
      "execution_count": 42,
      "outputs": [
        {
          "output_type": "execute_result",
          "data": {
            "text/plain": [
              "[234.2205668539325,\n",
              " 64.75492493894994,\n",
              " 40.91458340326342,\n",
              " 30.524100444903034,\n",
              " 21.759317724181095,\n",
              " 18.185784891504404,\n",
              " 15.093744612698414,\n",
              " 13.1528872425359,\n",
              " 11.433791980543374,\n",
              " 10.23247798147512]"
            ]
          },
          "metadata": {},
          "execution_count": 42
        }
      ]
    },
    {
      "cell_type": "markdown",
      "source": [
        "ELBOW METHOD TO FIND NO. OF CLUSTER"
      ],
      "metadata": {
        "id": "KPFB9IUh5PS0"
      }
    },
    {
      "cell_type": "code",
      "source": [
        "plt.plot(range(1,11),wcss)\n",
        "plt.xlabel('number of cluster')\n",
        "plt.ylabel('WCSS')"
      ],
      "metadata": {
        "colab": {
          "base_uri": "https://localhost:8080/",
          "height": 467
        },
        "id": "-_wNwSv7CVWZ",
        "outputId": "109db51f-5416-481b-acf8-9c42f6f2b143"
      },
      "execution_count": 43,
      "outputs": [
        {
          "output_type": "execute_result",
          "data": {
            "text/plain": [
              "Text(0, 0.5, 'WCSS')"
            ]
          },
          "metadata": {},
          "execution_count": 43
        },
        {
          "output_type": "display_data",
          "data": {
            "text/plain": [
              "<Figure size 640x480 with 1 Axes>"
            ],
            "image/png": "[encoded data removed]"
          },
          "metadata": {}
        }
      ]
    },
    {
      "cell_type": "code",
      "source": [
        "kmeans=KMeans(n_clusters=2,init='k-means++',random_state=42)\n",
        "y_kmeans=kmeans.fit_predict(X)"
      ],
      "metadata": {
        "id": "McVBDaUiCj5B"
      },
      "execution_count": 44,
      "outputs": []
    },
    {
      "cell_type": "code",
      "source": [
        "y_kmeans"
      ],
      "metadata": {
        "colab": {
          "base_uri": "https://localhost:8080/"
        },
        "id": "6cy6KrpkxH8_",
        "outputId": "ee03dc06-b535-4bdd-ce25-b49165690402"
      },
      "execution_count": 45,
      "outputs": [
        {
          "output_type": "execute_result",
          "data": {
            "text/plain": [
              "array([0, 0, 0, 0, 0, 0, 0, 0, 0, 0, 0, 0, 0, 0, 0, 0, 0, 0, 0, 1, 0, 1,\n",
              "       0, 0, 0, 0, 0, 0, 0, 0, 0, 0, 0, 0, 0, 0, 0, 0, 0, 1, 0, 1, 0, 1,\n",
              "       0, 1, 1, 0, 0, 0, 0, 0, 0, 0, 0, 0, 0, 0, 0, 0, 0, 0, 0, 0, 0, 0,\n",
              "       0, 0, 0, 0, 0, 0, 0, 0, 0, 0, 0, 1, 0, 1, 0, 0, 0, 1, 0, 0, 0, 0,\n",
              "       0, 0, 0, 0, 0, 1, 0, 0, 0, 0, 0, 1, 0, 0, 0, 0, 0, 0, 0, 0, 0, 0,\n",
              "       1, 0, 0, 0, 0, 0, 0, 0, 1, 1, 0, 0, 1, 1, 1, 0, 0, 0, 0, 1, 0, 1,\n",
              "       0, 1, 0, 0, 1, 1, 1, 1, 1, 0, 1, 1, 1, 1, 1, 1, 1, 1, 1, 0, 0, 1,\n",
              "       0, 1, 1, 1, 0, 0, 1, 1, 1, 1, 0, 1, 1, 1, 0, 1, 1, 0, 0, 1, 1, 1,\n",
              "       0, 1], dtype=int32)"
            ]
          },
          "metadata": {},
          "execution_count": 45
        }
      ]
    },
    {
      "cell_type": "code",
      "source": [
        "plt.scatter(X[y_kmeans==0,0],X[y_kmeans==0,1],s=100,c='red',label='cluster 01')\n",
        "plt.scatter(X[y_kmeans==1,0],X[y_kmeans==1,1],s=100,c='blue',label='cluster 02')\n",
        "plt.scatter(X[y_kmeans==2,0],X[y_kmeans==2,1],s=100,c='green',label='cluster 03')\n",
        "plt.title('cluster of customers')\n",
        "plt.legend()"
      ],
      "metadata": {
        "colab": {
          "base_uri": "https://localhost:8080/",
          "height": 470
        },
        "id": "ZwK_XxZQ2tI-",
        "outputId": "4e8dc867-6e79-4967-9b4c-191773b53c37"
      },
      "execution_count": 46,
      "outputs": [
        {
          "output_type": "execute_result",
          "data": {
            "text/plain": [
              "<matplotlib.legend.Legend at 0x783be841b5b0>"
            ]
          },
          "metadata": {},
          "execution_count": 46
        },
        {
          "output_type": "display_data",
          "data": {
            "text/plain": [
              "<Figure size 640x480 with 1 Axes>"
            ],
            "image/png": "[encoded data removed]"
          },
          "metadata": {}
        }
      ]
    },
    {
      "cell_type": "markdown",
      "source": [
        "SILHOUETTE SCORE"
      ],
      "metadata": {
        "id": "F-cTicZW5rpQ"
      }
    },
    {
      "cell_type": "code",
      "source": [
        "from sklearn.metrics import silhouette_score\n",
        "silhouette_score_avg=silhouette_score(X,y_kmeans)\n",
        "print(\"Silhouette Score in kmeans cluster \",silhouette_score_avg)"
      ],
      "metadata": {
        "colab": {
          "base_uri": "https://localhost:8080/"
        },
        "id": "exb6hW8W3DIi",
        "outputId": "44b785c3-1adf-47f6-ea04-faaea6dc0f03"
      },
      "execution_count": 47,
      "outputs": [
        {
          "output_type": "stream",
          "name": "stdout",
          "text": [
            "Silhouette Score in kmeans cluster  0.6478844764956891\n"
          ]
        }
      ]
    },
    {
      "cell_type": "markdown",
      "source": [
        "**Agglomerative Clustering**"
      ],
      "metadata": {
        "id": "_Wlf9rSX7CNX"
      }
    },
    {
      "cell_type": "code",
      "source": [
        "#optimum no. of cluster using dendogram\n",
        "import scipy.cluster.hierarchy as sch\n",
        "dend =sch.dendrogram(sch.linkage(X,method=\"ward\"))\n",
        "plt.title('Dendrogram')\n",
        "plt.xlabel('customers')\n",
        "plt.ylabel('Euclidean Distance')\n",
        "plt.show()"
      ],
      "metadata": {
        "colab": {
          "base_uri": "https://localhost:8080/",
          "height": 471
        },
        "id": "D-lWq9J88DEN",
        "outputId": "41f887a5-9906-41bb-e2a0-191043ca28f2"
      },
      "execution_count": 54,
      "outputs": [
        {
          "output_type": "display_data",
          "data": {
            "text/plain": [
              "<Figure size 640x480 with 1 Axes>"
            ],
            "image/png": "[encoded data removed]"
          },
          "metadata": {}
        }
      ]
    },
    {
      "cell_type": "code",
      "source": [
        "from sklearn.cluster import AgglomerativeClustering\n",
        "hc=AgglomerativeClustering(n_clusters = 2,metric ='euclidean',linkage='ward')\n",
        "y_hc=hc.fit_predict(X)"
      ],
      "metadata": {
        "id": "7dXf6A8_8dNS"
      },
      "execution_count": 55,
      "outputs": []
    },
    {
      "cell_type": "code",
      "source": [
        "plt.scatter(X[y_hc==0,0],X[y_hc==0,1],s=100,c='red',label='Cluster =1')\n",
        "plt.scatter(X[y_hc==1,0],X[y_hc==1,1],s=100,c='green',label='Cluster =2')\n",
        "plt.legend()\n",
        "plt.show()"
      ],
      "metadata": {
        "colab": {
          "base_uri": "https://localhost:8080/",
          "height": 430
        },
        "id": "_x_G48gH9Bup",
        "outputId": "5b91130d-5b80-486f-d8b3-8f36b7992d85"
      },
      "execution_count": 56,
      "outputs": [
        {
          "output_type": "display_data",
          "data": {
            "text/plain": [
              "<Figure size 640x480 with 1 Axes>"
            ],
            "image/png": "[encoded data removed]"
          },
          "metadata": {}
        }
      ]
    },
    {
      "cell_type": "code",
      "source": [
        "sil=silhouette_score(X,y_hc)\n",
        "print(\"silouette score in HC \",sil)"
      ],
      "metadata": {
        "colab": {
          "base_uri": "https://localhost:8080/"
        },
        "id": "Yn5NbNyUJrcw",
        "outputId": "07995833-fec5-4f72-9b2f-ba3a228d8f38"
      },
      "execution_count": 57,
      "outputs": [
        {
          "output_type": "stream",
          "name": "stdout",
          "text": [
            "silouette score in HC  0.5973571195195069\n"
          ]
        }
      ]
    },
    {
      "cell_type": "markdown",
      "source": [
        "while comparing kmeans and hc.Silhouette score in kmeans is higher.thus model is good in kmeans clustering"
      ],
      "metadata": {
        "id": "CK2yKt2_MeEz"
      }
    },
    {
      "cell_type": "code",
      "source": [
        "from sklearn.cluster import DBSCAN\n",
        "\n",
        "# DBSCAN clustering\n",
        "dbscan = DBSCAN(eps=0.5, min_samples=5)\n",
        "db=dbscan.fit(X)"
      ],
      "metadata": {
        "id": "whbDFkU3KGnn"
      },
      "execution_count": 63,
      "outputs": []
    },
    {
      "cell_type": "markdown",
      "source": [
        "SELECT  CLUSTERING  Magnesium and Total_Phenols"
      ],
      "metadata": {
        "id": "NlGMDBOCQC-7"
      }
    },
    {
      "cell_type": "markdown",
      "source": [
        "KMEANS"
      ],
      "metadata": {
        "id": "KmgG8y2TUZFu"
      }
    },
    {
      "cell_type": "code",
      "source": [
        "Y=data.iloc[:,[4,5]].values\n",
        "Y"
      ],
      "metadata": {
        "colab": {
          "base_uri": "https://localhost:8080/"
        },
        "id": "RBpPQyQXRy4T",
        "outputId": "56e0b9b9-70d1-4c8b-f121-0f7e6b23e72c"
      },
      "execution_count": 70,
      "outputs": [
        {
          "output_type": "execute_result",
          "data": {
            "text/plain": [
              "array([[127.  ,   2.8 ],\n",
              "       [100.  ,   2.65],\n",
              "       [101.  ,   2.8 ],\n",
              "       [113.  ,   3.85],\n",
              "       [118.  ,   2.8 ],\n",
              "       [112.  ,   3.27],\n",
              "       [ 96.  ,   2.5 ],\n",
              "       [121.  ,   2.6 ],\n",
              "       [ 97.  ,   2.8 ],\n",
              "       [ 98.  ,   2.98],\n",
              "       [105.  ,   2.95],\n",
              "       [ 95.  ,   2.2 ],\n",
              "       [ 89.  ,   2.6 ],\n",
              "       [ 91.  ,   3.1 ],\n",
              "       [102.  ,   3.3 ],\n",
              "       [112.  ,   2.85],\n",
              "       [120.  ,   2.8 ],\n",
              "       [115.  ,   2.95],\n",
              "       [108.  ,   3.3 ],\n",
              "       [116.  ,   2.7 ],\n",
              "       [126.  ,   3.  ],\n",
              "       [102.  ,   2.41],\n",
              "       [101.  ,   2.61],\n",
              "       [ 95.  ,   2.48],\n",
              "       [ 96.  ,   2.53],\n",
              "       [124.  ,   2.63],\n",
              "       [ 93.  ,   2.85],\n",
              "       [ 94.  ,   2.4 ],\n",
              "       [107.  ,   2.95],\n",
              "       [ 96.  ,   2.65],\n",
              "       [101.  ,   3.  ],\n",
              "       [106.  ,   2.86],\n",
              "       [104.  ,   2.42],\n",
              "       [132.  ,   2.95],\n",
              "       [110.  ,   2.35],\n",
              "       [100.  ,   2.7 ],\n",
              "       [110.  ,   2.6 ],\n",
              "       [ 98.  ,   2.45],\n",
              "       [ 98.  ,   2.4 ],\n",
              "       [128.  ,   3.  ],\n",
              "       [117.  ,   3.15],\n",
              "       [ 90.  ,   2.45],\n",
              "       [101.  ,   3.25],\n",
              "       [103.  ,   2.64],\n",
              "       [107.  ,   3.  ],\n",
              "       [111.  ,   2.85],\n",
              "       [102.  ,   3.25],\n",
              "       [101.  ,   3.1 ],\n",
              "       [103.  ,   2.75],\n",
              "       [108.  ,   2.88],\n",
              "       [ 92.  ,   2.72],\n",
              "       [ 94.  ,   2.45],\n",
              "       [111.  ,   3.88],\n",
              "       [115.  ,   3.  ],\n",
              "       [118.  ,   2.6 ],\n",
              "       [116.  ,   2.96],\n",
              "       [118.  ,   3.2 ],\n",
              "       [102.  ,   3.  ],\n",
              "       [108.  ,   3.4 ],\n",
              "       [ 88.  ,   1.98],\n",
              "       [101.  ,   2.05],\n",
              "       [100.  ,   2.02],\n",
              "       [ 94.  ,   2.1 ],\n",
              "       [ 87.  ,   3.5 ],\n",
              "       [104.  ,   1.89],\n",
              "       [ 98.  ,   2.42],\n",
              "       [ 78.  ,   2.98],\n",
              "       [ 78.  ,   2.11],\n",
              "       [110.  ,   2.53],\n",
              "       [151.  ,   1.85],\n",
              "       [103.  ,   1.1 ],\n",
              "       [ 86.  ,   2.95],\n",
              "       [ 87.  ,   1.88],\n",
              "       [139.  ,   3.3 ],\n",
              "       [101.  ,   3.38],\n",
              "       [ 97.  ,   1.61],\n",
              "       [ 86.  ,   1.95],\n",
              "       [112.  ,   1.72],\n",
              "       [136.  ,   1.9 ],\n",
              "       [101.  ,   2.83],\n",
              "       [ 86.  ,   2.42],\n",
              "       [ 86.  ,   2.2 ],\n",
              "       [ 78.  ,   2.  ],\n",
              "       [ 85.  ,   1.65],\n",
              "       [ 94.  ,   2.2 ],\n",
              "       [ 99.  ,   2.2 ],\n",
              "       [ 90.  ,   1.78],\n",
              "       [ 88.  ,   1.92],\n",
              "       [ 84.  ,   1.95],\n",
              "       [ 70.  ,   2.2 ],\n",
              "       [ 81.  ,   1.6 ],\n",
              "       [ 86.  ,   1.45],\n",
              "       [ 80.  ,   1.38],\n",
              "       [ 88.  ,   2.45],\n",
              "       [ 98.  ,   3.02],\n",
              "       [162.  ,   2.5 ],\n",
              "       [134.  ,   1.6 ],\n",
              "       [ 85.  ,   2.55],\n",
              "       [ 88.  ,   3.52],\n",
              "       [ 88.  ,   2.85],\n",
              "       [ 97.  ,   2.23],\n",
              "       [ 88.  ,   1.45],\n",
              "       [ 98.  ,   2.56],\n",
              "       [ 86.  ,   2.5 ],\n",
              "       [ 85.  ,   2.2 ],\n",
              "       [ 90.  ,   1.68],\n",
              "       [ 80.  ,   1.65],\n",
              "       [ 84.  ,   1.38],\n",
              "       [ 92.  ,   2.36],\n",
              "       [ 94.  ,   2.74],\n",
              "       [107.  ,   3.18],\n",
              "       [ 88.  ,   2.55],\n",
              "       [103.  ,   1.75],\n",
              "       [ 88.  ,   2.48],\n",
              "       [ 84.  ,   2.56],\n",
              "       [ 85.  ,   2.46],\n",
              "       [ 86.  ,   1.98],\n",
              "       [108.  ,   2.  ],\n",
              "       [ 80.  ,   1.63],\n",
              "       [ 87.  ,   2.  ],\n",
              "       [ 96.  ,   2.9 ],\n",
              "       [119.  ,   3.18],\n",
              "       [102.  ,   2.2 ],\n",
              "       [ 86.  ,   2.62],\n",
              "       [ 82.  ,   2.86],\n",
              "       [ 85.  ,   2.6 ],\n",
              "       [ 86.  ,   2.74],\n",
              "       [ 92.  ,   2.13],\n",
              "       [ 88.  ,   2.22],\n",
              "       [ 80.  ,   2.1 ],\n",
              "       [122.  ,   1.51],\n",
              "       [104.  ,   1.3 ],\n",
              "       [ 98.  ,   1.15],\n",
              "       [106.  ,   1.7 ],\n",
              "       [ 85.  ,   2.  ],\n",
              "       [ 94.  ,   1.62],\n",
              "       [ 89.  ,   1.38],\n",
              "       [ 96.  ,   1.79],\n",
              "       [ 88.  ,   1.62],\n",
              "       [101.  ,   2.32],\n",
              "       [ 96.  ,   1.54],\n",
              "       [ 89.  ,   1.4 ],\n",
              "       [ 97.  ,   1.55],\n",
              "       [ 92.  ,   2.  ],\n",
              "       [112.  ,   1.38],\n",
              "       [102.  ,   1.5 ],\n",
              "       [ 80.  ,   0.98],\n",
              "       [ 86.  ,   1.7 ],\n",
              "       [ 92.  ,   1.93],\n",
              "       [113.  ,   1.41],\n",
              "       [123.  ,   1.4 ],\n",
              "       [112.  ,   1.48],\n",
              "       [116.  ,   2.2 ],\n",
              "       [ 98.  ,   1.8 ],\n",
              "       [103.  ,   1.48],\n",
              "       [ 93.  ,   1.74],\n",
              "       [ 89.  ,   1.8 ],\n",
              "       [ 97.  ,   1.9 ],\n",
              "       [ 98.  ,   2.8 ],\n",
              "       [ 89.  ,   2.6 ],\n",
              "       [ 88.  ,   2.3 ],\n",
              "       [107.  ,   1.83],\n",
              "       [106.  ,   1.65],\n",
              "       [106.  ,   1.39],\n",
              "       [ 90.  ,   1.35],\n",
              "       [ 88.  ,   1.28],\n",
              "       [111.  ,   1.7 ],\n",
              "       [ 88.  ,   1.48],\n",
              "       [105.  ,   1.55],\n",
              "       [112.  ,   1.98],\n",
              "       [ 96.  ,   1.25],\n",
              "       [ 86.  ,   1.39],\n",
              "       [ 91.  ,   1.68],\n",
              "       [ 95.  ,   1.68],\n",
              "       [102.  ,   1.8 ],\n",
              "       [120.  ,   1.59],\n",
              "       [120.  ,   1.65],\n",
              "       [ 96.  ,   2.05]])"
            ]
          },
          "metadata": {},
          "execution_count": 70
        }
      ]
    },
    {
      "cell_type": "code",
      "source": [
        "from sklearn.cluster import KMeans\n",
        "wcss=[]\n",
        "for i in range (1,11):\n",
        "  kmeans=KMeans(n_clusters=i,init='k-means++',random_state=42)\n",
        "  kmeans.fit(Y)\n",
        "  wcss.append(kmeans.inertia_)"
      ],
      "metadata": {
        "id": "qwaLvITlTitk"
      },
      "execution_count": 71,
      "outputs": []
    },
    {
      "cell_type": "code",
      "source": [
        "wcss"
      ],
      "metadata": {
        "colab": {
          "base_uri": "https://localhost:8080/"
        },
        "id": "6qmVw3CUTsoZ",
        "outputId": "2d398333-f23e-4c81-9606-b739f6070a0e"
      },
      "execution_count": 72,
      "outputs": [
        {
          "output_type": "execute_result",
          "data": {
            "text/plain": [
              "[36175.44140730337,\n",
              " 13576.971208900835,\n",
              " 7160.945017221067,\n",
              " 4093.1436903016593,\n",
              " 2924.4099028128257,\n",
              " 2259.3264274123444,\n",
              " 1471.6682990481688,\n",
              " 1028.1191454977252,\n",
              " 868.3818632514408,\n",
              " 724.2455969252192]"
            ]
          },
          "metadata": {},
          "execution_count": 72
        }
      ]
    },
    {
      "cell_type": "code",
      "source": [
        "plt.plot(range(1,11),wcss)\n",
        "plt.xlabel('number of cluster')\n",
        "plt.ylabel('WCSS')"
      ],
      "metadata": {
        "colab": {
          "base_uri": "https://localhost:8080/",
          "height": 467
        },
        "id": "FddO4T-XTtds",
        "outputId": "005d845d-6082-4c21-9a97-78a5a26b325d"
      },
      "execution_count": 73,
      "outputs": [
        {
          "output_type": "execute_result",
          "data": {
            "text/plain": [
              "Text(0, 0.5, 'WCSS')"
            ]
          },
          "metadata": {},
          "execution_count": 73
        },
        {
          "output_type": "display_data",
          "data": {
            "text/plain": [
              "<Figure size 640x480 with 1 Axes>"
            ],
            "image/png": "[encoded data removed]"
          },
          "metadata": {}
        }
      ]
    },
    {
      "cell_type": "code",
      "source": [
        "kmeans=KMeans(n_clusters=2,init='k-means++',random_state=42)\n",
        "y_kmeans=kmeans.fit_predict(Y)"
      ],
      "metadata": {
        "id": "8wzrkxJ8T8-P"
      },
      "execution_count": 74,
      "outputs": []
    },
    {
      "cell_type": "code",
      "source": [
        "plt.scatter(Y[y_kmeans==0,0],Y[y_kmeans==0,1],s=100,c='red',label='cluster 01')\n",
        "plt.scatter(Y[y_kmeans==1,0],Y[y_kmeans==1,1],s=100,c='blue',label='cluster 02')\n",
        "plt.title('cluster of customers')\n",
        "plt.legend()"
      ],
      "metadata": {
        "colab": {
          "base_uri": "https://localhost:8080/",
          "height": 470
        },
        "id": "gVNWEw6sUASh",
        "outputId": "b12194bf-d08c-41ec-8d2d-0acb530c99c3"
      },
      "execution_count": 75,
      "outputs": [
        {
          "output_type": "execute_result",
          "data": {
            "text/plain": [
              "<matplotlib.legend.Legend at 0x783be8356320>"
            ]
          },
          "metadata": {},
          "execution_count": 75
        },
        {
          "output_type": "display_data",
          "data": {
            "text/plain": [
              "<Figure size 640x480 with 1 Axes>"
            ],
            "image/png": "[encoded data removed]"
          },
          "metadata": {}
        }
      ]
    },
    {
      "cell_type": "code",
      "source": [
        "silhouette_score_avg=silhouette_score(Y,y_kmeans)\n",
        "print(\"Silhouette Score in kmeans cluster \",silhouette_score_avg)"
      ],
      "metadata": {
        "colab": {
          "base_uri": "https://localhost:8080/"
        },
        "id": "jZC_QsdVUSuT",
        "outputId": "583bb45c-66f4-41df-d6b1-4ba48c77d150"
      },
      "execution_count": 76,
      "outputs": [
        {
          "output_type": "stream",
          "name": "stdout",
          "text": [
            "Silhouette Score in kmeans cluster  0.5839231651707016\n"
          ]
        }
      ]
    },
    {
      "cell_type": "markdown",
      "source": [
        "Agglomerative Clustering"
      ],
      "metadata": {
        "id": "aAEyAgFyUW-Y"
      }
    },
    {
      "cell_type": "code",
      "source": [
        "#optimum no. of cluster using dendogram\n",
        "import scipy.cluster.hierarchy as sch\n",
        "dend =sch.dendrogram(sch.linkage(Y,method=\"ward\"))\n",
        "plt.title('Dendrogram')\n",
        "plt.xlabel('customers')\n",
        "plt.ylabel('Euclidean Distance')\n",
        "plt.show()"
      ],
      "metadata": {
        "colab": {
          "base_uri": "https://localhost:8080/",
          "height": 471
        },
        "id": "saDx2jGCUWPl",
        "outputId": "94cd9c48-441f-49f5-abb4-a8e44d74fdc5"
      },
      "execution_count": 77,
      "outputs": [
        {
          "output_type": "display_data",
          "data": {
            "text/plain": [
              "<Figure size 640x480 with 1 Axes>"
            ],
            "image/png": "[encoded data removed]"
          },
          "metadata": {}
        }
      ]
    },
    {
      "cell_type": "code",
      "source": [
        "hc=AgglomerativeClustering(n_clusters = 2,metric ='euclidean',linkage='ward')\n",
        "y_hc=hc.fit_predict(Y)"
      ],
      "metadata": {
        "id": "OK4FTeCAU50a"
      },
      "execution_count": 78,
      "outputs": []
    },
    {
      "cell_type": "code",
      "source": [
        "plt.scatter(Y[y_hc==0,0],Y[y_hc==0,1],s=100,c='red',label='Cluster =1')\n",
        "plt.scatter(Y[y_hc==1,0],Y[y_hc==1,1],s=100,c='green',label='Cluster =2')\n",
        "plt.legend()\n",
        "plt.show()"
      ],
      "metadata": {
        "colab": {
          "base_uri": "https://localhost:8080/",
          "height": 432
        },
        "id": "e9rVFEm2VHGX",
        "outputId": "2ff7bd91-7135-4d49-b674-2a4cb2e64a88"
      },
      "execution_count": 79,
      "outputs": [
        {
          "output_type": "display_data",
          "data": {
            "text/plain": [
              "<Figure size 640x480 with 1 Axes>"
            ],
            "image/png": "[encoded data removed]"
          },
          "metadata": {}
        }
      ]
    },
    {
      "cell_type": "code",
      "source": [
        "sil=silhouette_score(Y,y_hc)\n",
        "print(\"silouette score in HC \",sil)"
      ],
      "metadata": {
        "colab": {
          "base_uri": "https://localhost:8080/"
        },
        "id": "S4-suabiVSfk",
        "outputId": "ee7943d9-5dd7-46af-9268-efebf334903b"
      },
      "execution_count": 81,
      "outputs": [
        {
          "output_type": "stream",
          "name": "stdout",
          "text": [
            "silouette score in HC  0.5839231651707016\n"
          ]
        }
      ]
    },
    {
      "cell_type": "markdown",
      "source": [
        "BOTH THE SCORES ARE SAME"
      ],
      "metadata": {
        "id": "-EfeSMUDVqvc"
      }
    },
    {
      "cell_type": "code",
      "source": [],
      "metadata": {
        "id": "kB0HySizVtvv"
      },
      "execution_count": null,
      "outputs": []
    }
  ]
}